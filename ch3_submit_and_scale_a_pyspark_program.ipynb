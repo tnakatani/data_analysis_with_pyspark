{
 "cells": [
  {
   "cell_type": "markdown",
   "metadata": {},
   "source": [
    "# Chapter 3: Submitting and scaling your first PySpark program"
   ]
  },
  {
   "cell_type": "code",
   "execution_count": 12,
   "metadata": {
    "ExecuteTime": {
     "end_time": "2021-05-13T02:17:07.776223Z",
     "start_time": "2021-05-13T02:16:59.806539Z"
    }
   },
   "outputs": [],
   "source": [
    "# Set up\n",
    "from pyspark.sql import SparkSession\n",
    "\n",
    "spark = (SparkSession\n",
    "         .builder\n",
    "         .appName(\"Analyzing the vocabulary of Pride and Prejudice.\")\n",
    "         .getOrCreate())\n",
    "\n",
    "spark.sparkContext.setLogLevel('ERROR')"
   ]
  },
  {
   "cell_type": "code",
   "execution_count": 13,
   "metadata": {},
   "outputs": [],
   "source": [
    "# Data Frame Setup\n",
    "# Set up\n",
    "from pyspark.sql.functions import col, split, lower, explode, regexp_extract\n",
    "\n",
    "book = spark.read.text(\"data/Ch02/1342-0.txt\")\n",
    "lines = book.select(split(col('value'), \" \").alias(\"line\"))\n",
    "words = lines.select(explode(col(\"line\")).alias(\"word\"))\n",
    "words_lower = words.select(lower(\"word\").alias(\"word_lower\"))\n",
    "word_norm = words_lower.select(\n",
    "    regexp_extract(col(\"word_lower\"), \"[a-z]*\", 0).alias(\"word_normalized\"))\n",
    "word_nonull = word_norm.filter(col(\"word_normalized\") != \"\") \\\n",
    "                       .withColumnRenamed('word_normalized', 'word_nonull')"
   ]
  },
  {
   "cell_type": "markdown",
   "metadata": {},
   "source": [
    "## `Count`\n",
    "\n",
    "- `GroupedData` allows you to perform an aggregate function on each group. \n",
    "- Use `groupby` to count record occurrence, passing columns we want to group.  Returned value is a `GroupedData` object, not a `DataFrame`.  Once you apply a function to it like `count()`, it returns a  `DataFrame`.\n",
    "    - Note that `groupby` and `groupBy` are the same thing.\n",
    "- You can sort the output by `orderBy`\n",
    "    - Note that `orderBy` only exists as camel case."
   ]
  },
  {
   "cell_type": "code",
   "execution_count": 16,
   "metadata": {
    "ExecuteTime": {
     "end_time": "2021-05-13T02:22:17.223409Z",
     "start_time": "2021-05-13T02:22:16.540819Z"
    }
   },
   "outputs": [
    {
     "data": {
      "text/plain": [
       "<pyspark.sql.group.GroupedData at 0x11b77b910>"
      ]
     },
     "metadata": {},
     "output_type": "display_data"
    },
    {
     "name": "stdout",
     "output_type": "stream",
     "text": [
      "+-----------+-----+\n",
      "|word_nonull|count|\n",
      "+-----------+-----+\n",
      "|        the| 4480|\n",
      "|         to| 4218|\n",
      "|         of| 3711|\n",
      "|        and| 3504|\n",
      "|        her| 2199|\n",
      "|          a| 1982|\n",
      "|         in| 1909|\n",
      "|        was| 1838|\n",
      "|          i| 1750|\n",
      "|        she| 1668|\n",
      "|       that| 1487|\n",
      "|         it| 1482|\n",
      "|        not| 1427|\n",
      "|        you| 1301|\n",
      "|         he| 1296|\n",
      "|         be| 1257|\n",
      "|        his| 1247|\n",
      "|         as| 1174|\n",
      "|        had| 1170|\n",
      "|       with| 1092|\n",
      "+-----------+-----+\n",
      "only showing top 20 rows\n",
      "\n"
     ]
    }
   ],
   "source": [
    "groups = word_nonull.groupBy(col(\"word_nonull\"))\n",
    "display(groups)\n",
    "\n",
    "results = groups.count().orderBy(\"count\", ascending=False)\n",
    "results.show()"
   ]
  },
  {
   "cell_type": "code",
   "execution_count": null,
   "metadata": {},
   "outputs": [],
   "source": []
  }
 ],
 "metadata": {
  "kernelspec": {
   "display_name": "pyspark",
   "language": "python",
   "name": "pyspark"
  },
  "language_info": {
   "codemirror_mode": {
    "name": "ipython",
    "version": 3
   },
   "file_extension": ".py",
   "mimetype": "text/x-python",
   "name": "python",
   "nbconvert_exporter": "python",
   "pygments_lexer": "ipython3",
   "version": "3.8.8"
  },
  "toc": {
   "base_numbering": 1,
   "nav_menu": {},
   "number_sections": false,
   "sideBar": true,
   "skip_h1_title": false,
   "title_cell": "Table of Contents",
   "title_sidebar": "Contents",
   "toc_cell": false,
   "toc_position": {},
   "toc_section_display": true,
   "toc_window_display": false
  }
 },
 "nbformat": 4,
 "nbformat_minor": 5
}
