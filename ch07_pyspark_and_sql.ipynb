{
 "cells": [
  {
   "cell_type": "markdown",
   "metadata": {
    "toc": true
   },
   "source": [
    "<h1>Table of Contents<span class=\"tocSkip\"></span></h1>\n",
    "<div class=\"toc\"><ul class=\"toc-item\"><li><span><a href=\"#Data-Sources\" data-toc-modified-id=\"Data-Sources-1\">Data Sources</a></span></li><li><span><a href=\"#pyspark.sql-vs-SQL\" data-toc-modified-id=\"pyspark.sql-vs-SQL-2\"><code>pyspark.sql</code> vs SQL</a></span><ul class=\"toc-item\"><li><span><a href=\"#Order-of-execution\" data-toc-modified-id=\"Order-of-execution-2.1\">Order of execution</a></span></li><li><span><a href=\"#Using-SQL-queries-on-a-data-frame\" data-toc-modified-id=\"Using-SQL-queries-on-a-data-frame-2.2\">Using SQL queries on a data frame</a></span></li><li><span><a href=\"#Table-vs-View-concept\" data-toc-modified-id=\"Table-vs-View-concept-2.3\">Table vs View concept</a></span></li></ul></li><li><span><a href=\"#Using-the-Spark-catalog-for-multiple-views\" data-toc-modified-id=\"Using-the-Spark-catalog-for-multiple-views-3\">Using the Spark catalog for multiple views</a></span><ul class=\"toc-item\"><li><span><a href=\"#Data-Source---Backblaze-Data-Set\" data-toc-modified-id=\"Data-Source---Backblaze-Data-Set-3.1\">Data Source - Backblaze Data Set</a></span></li></ul></li></ul></div>"
   ]
  },
  {
   "cell_type": "markdown",
   "metadata": {},
   "source": [
    "# Bilingual PySpark: blending Python and SQL\n",
    "\n",
    "> This chapter is dedicated to using SQL with, and on top of PySpark. I cover how we can move from one language to the other. I also cover how we can use a SQL-like syntax within data frame methods to speed up your code and some of trade-offs you can face. Finally, we blend Python and SQL code together to get the best of both worlds.\n",
    "\n",
    "## Data Sources\n",
    "\n",
    "We will be using a periodic table of elements database for the initial section, followed by a public data set provided by BackBlaze, which provides hard drive data and statistics."
   ]
  },
  {
   "cell_type": "code",
   "execution_count": 1,
   "metadata": {},
   "outputs": [],
   "source": [
    "from pyspark.sql import SparkSession\n",
    "from pyspark.sql.utils import AnalysisException\n",
    "import pyspark.sql.functions as F\n",
    "import pyspark.sql.types as T\n",
    "import numpy as np\n",
    "\n",
    "spark = SparkSession.builder.getOrCreate()"
   ]
  },
  {
   "cell_type": "code",
   "execution_count": 2,
   "metadata": {},
   "outputs": [
    {
     "name": "stdout",
     "output_type": "stream",
     "text": [
      "root\n",
      " |-- AtomicNumber: integer (nullable = true)\n",
      " |-- Element: string (nullable = true)\n",
      " |-- Symbol: string (nullable = true)\n",
      " |-- AtomicMass: double (nullable = true)\n",
      " |-- NumberofNeutrons: integer (nullable = true)\n",
      " |-- NumberofProtons: integer (nullable = true)\n",
      " |-- NumberofElectrons: integer (nullable = true)\n",
      " |-- Period: integer (nullable = true)\n",
      " |-- Group: integer (nullable = true)\n",
      " |-- Phase: string (nullable = true)\n",
      " |-- Radioactive: string (nullable = true)\n",
      " |-- Natural: string (nullable = true)\n",
      " |-- Metal: string (nullable = true)\n",
      " |-- Nonmetal: string (nullable = true)\n",
      " |-- Metalloid: string (nullable = true)\n",
      " |-- Type: string (nullable = true)\n",
      " |-- AtomicRadius: double (nullable = true)\n",
      " |-- Electronegativity: double (nullable = true)\n",
      " |-- FirstIonization: double (nullable = true)\n",
      " |-- Density: double (nullable = true)\n",
      " |-- MeltingPoint: double (nullable = true)\n",
      " |-- BoilingPoint: double (nullable = true)\n",
      " |-- NumberOfIsotopes: integer (nullable = true)\n",
      " |-- Discoverer: string (nullable = true)\n",
      " |-- Year: integer (nullable = true)\n",
      " |-- SpecificHeat: double (nullable = true)\n",
      " |-- NumberofShells: integer (nullable = true)\n",
      " |-- NumberofValence: integer (nullable = true)\n",
      "\n"
     ]
    }
   ],
   "source": [
    "# Read in table of elements data\n",
    "elements = spark.read.csv(\n",
    "    \"data/Ch07/Periodic_Table_Of_Elements.csv\",\n",
    "    header=True,\n",
    "    inferSchema=True,\n",
    ")\n",
    "\n",
    "# Inspect the data frame\n",
    "elements.printSchema()\n",
    "\n",
    "# View the data frame in chunks of 3-4 columns\n",
    "# column_split = np.array_split(np.array(elements.columns), len(elements.columns) // 3)\n",
    "\n",
    "# for x in column_split:\n",
    "#     elements.select(*x).show(3, False)"
   ]
  },
  {
   "cell_type": "markdown",
   "metadata": {},
   "source": [
    "## `pyspark.sql` vs SQL\n",
    "\n",
    "### Order of execution\n",
    "\n",
    "![](./notes/img/order.png)"
   ]
  },
  {
   "cell_type": "markdown",
   "metadata": {},
   "source": [
    "The code below selects the `phrase` column that contain `\"liq\"`, then runs groupby and count.\n",
    "\n",
    "SQL equivalent would be:\n",
    "\n",
    "```sql\n",
    "SELECT\n",
    "  period,\n",
    "  count(*)\n",
    "FROM elements\n",
    "WHERE phase = \"liq\"\n",
    "GROUP BY period;\n",
    "```"
   ]
  },
  {
   "cell_type": "code",
   "execution_count": 3,
   "metadata": {},
   "outputs": [
    {
     "name": "stdout",
     "output_type": "stream",
     "text": [
      "+------+-----+\n",
      "|period|count|\n",
      "+------+-----+\n",
      "|     6|    1|\n",
      "|     4|    1|\n",
      "+------+-----+\n",
      "\n"
     ]
    }
   ],
   "source": [
    "elements.where(F.col(\"phase\") == \"liq\").groupby(\"period\").count().show()"
   ]
  },
  {
   "cell_type": "markdown",
   "metadata": {},
   "source": [
    "### Using SQL queries on a data frame\n",
    "\n",
    "- In order to allow a data frame to be queried via SQL, we need to _register_ them as tables.\n",
    "- Spark SQL does not have visibility over the variables Python assigns.\n",
    "- Use `createOrReplaceTempView()` to read a data frame and create a Spark SQL reference.  Functionally equivalent to `CREATE_OR_REPLACE_VIEW` in SQL"
   ]
  },
  {
   "cell_type": "code",
   "execution_count": 5,
   "metadata": {},
   "outputs": [
    {
     "name": "stdout",
     "output_type": "stream",
     "text": [
      "Table or view not found: elements; line 1 pos 29;\n",
      "'Aggregate ['period], ['period, unresolvedalias(count(1), None)]\n",
      "+- 'Filter ('phase = liq)\n",
      "   +- 'UnresolvedRelation [elements]\n",
      "\n"
     ]
    }
   ],
   "source": [
    "# Directly querying a data frame SQL-style does not work\n",
    "try:\n",
    "    spark.sql(\n",
    "        \"select period, count(*) from elements where phase='liq' group by period\"\n",
    "    ).show(5)\n",
    "except AnalysisException as e:\n",
    "    print(e)"
   ]
  },
  {
   "cell_type": "code",
   "execution_count": 12,
   "metadata": {},
   "outputs": [
    {
     "name": "stdout",
     "output_type": "stream",
     "text": [
      "+------+--------+\n",
      "|period|count(1)|\n",
      "+------+--------+\n",
      "|     6|       1|\n",
      "|     4|       1|\n",
      "+------+--------+\n",
      "\n"
     ]
    }
   ],
   "source": [
    "# Using createOrReplaceTempView\n",
    "\n",
    "elements.createOrReplaceTempView(\"elements\")\n",
    "\n",
    "spark.sql(\n",
    "    \"select period, count(*) from elements where phase='liq' group by period\"\n",
    ").show(5)"
   ]
  },
  {
   "cell_type": "markdown",
   "metadata": {},
   "source": [
    "### Table vs View concept\n",
    "\n",
    "> In SQL, they are distinct concepts: the table is materialized in memory and the view is computed on the fly. Spark’s temp views are conceptually closer to a view than a table. Spark SQL also has tables but we will not be using them, preferring reading and materializing our data into a data frame."
   ]
  },
  {
   "cell_type": "markdown",
   "metadata": {},
   "source": [
    "## Using the Spark catalog for multiple views\n",
    "\n",
    "- Spark catalog mainly deals with managing metadata of multiple SQL tables, and their level of caching.\n",
    "- Catalogs manages views we've registered and drops them."
   ]
  },
  {
   "cell_type": "code",
   "execution_count": 13,
   "metadata": {},
   "outputs": [
    {
     "data": {
      "text/plain": [
       "[Table(name='elements', database=None, description=None, tableType='TEMPORARY', isTemporary=True)]"
      ]
     },
     "metadata": {},
     "output_type": "display_data"
    },
    {
     "data": {
      "text/plain": [
       "[]"
      ]
     },
     "metadata": {},
     "output_type": "display_data"
    }
   ],
   "source": [
    "# Instantiate\n",
    "spark.catalog\n",
    "\n",
    "# List tables we've registered\n",
    "display(spark.catalog.listTables())\n",
    "\n",
    "# Drop a table\n",
    "spark.catalog.dropTempView(\"elements\")\n",
    "display(spark.catalog.listTables())"
   ]
  },
  {
   "cell_type": "markdown",
   "metadata": {},
   "source": [
    "### Data Source - Backblaze Data Set"
   ]
  },
  {
   "cell_type": "code",
   "execution_count": null,
   "metadata": {},
   "outputs": [],
   "source": [
    "# Read backblaze data set into a data frame and register a SQL view\n",
    "\n",
    "DATA_DIRECTORY = \"./data/Ch07/\"\n",
    "\n",
    "q1 = spark.read.csv(\n",
    "    DATA_DIRECTORY + \"drive_stats_2019_Q1\", header=True, inferSchema=True\n",
    ")\n",
    "q2 = spark.read.csv(\n",
    "    DATA_DIRECTORY + \"data_Q2_2019\", header=True, inferSchema=True\n",
    ")\n",
    "q3 = spark.read.csv(\n",
    "    DATA_DIRECTORY + \"data_Q3_2019\", header=True, inferSchema=True\n",
    ")\n",
    "q4 = spark.read.csv(\n",
    "    DATA_DIRECTORY + \"data_Q4_2019\", header=True, inferSchema=True\n",
    ")\n",
    "\n",
    "# Q4 has two more fields than the rest\n",
    "\n",
    "q4_fields_extra = set(q4.columns) - set(q1.columns)\n",
    "\n",
    "for i in q4_fields_extra:\n",
    "    q1 = q1.withColumn(i, F.lit(None).cast(T.StringType()))\n",
    "    q2 = q2.withColumn(i, F.lit(None).cast(T.StringType()))\n",
    "    q3 = q3.withColumn(i, F.lit(None).cast(T.StringType()))\n",
    "\n",
    "# Union the data frames\n",
    "# if you are using the full set of data, use this version\n",
    "backblaze_2019 = (\n",
    "    q1.select(q4.columns)\n",
    "    .union(q2.select(q4.columns))\n",
    "    .union(q3.select(q4.columns))\n",
    "    .union(q4)\n",
    ")\n",
    "\n",
    "# Setting the layout for each column according to the schema\n",
    "q = backblaze_2019.select(\n",
    "    [\n",
    "        F.col(x).cast(T.LongType()) if x.startswith(\"smart\") else F.col(x)\n",
    "        for x in backblaze_2019.columns\n",
    "    ]\n",
    ")\n",
    "\n",
    "# Register the view\n",
    "backblaze_2019.createOrReplaceTempView(\"backblaze_stats_2019\")"
   ]
  }
 ],
 "metadata": {
  "kernelspec": {
   "display_name": "Python [conda env:pyspark]",
   "language": "python",
   "name": "conda-env-pyspark-py"
  },
  "language_info": {
   "codemirror_mode": {
    "name": "ipython",
    "version": 3
   },
   "file_extension": ".py",
   "mimetype": "text/x-python",
   "name": "python",
   "nbconvert_exporter": "python",
   "pygments_lexer": "ipython3",
   "version": "3.8.8"
  },
  "toc": {
   "base_numbering": 1,
   "nav_menu": {},
   "number_sections": false,
   "sideBar": true,
   "skip_h1_title": true,
   "title_cell": "Table of Contents",
   "title_sidebar": "Contents",
   "toc_cell": true,
   "toc_position": {},
   "toc_section_display": true,
   "toc_window_display": false
  }
 },
 "nbformat": 4,
 "nbformat_minor": 4
}
