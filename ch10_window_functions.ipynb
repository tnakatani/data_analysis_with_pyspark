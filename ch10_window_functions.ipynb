{
 "cells": [
  {
   "cell_type": "markdown",
   "metadata": {
    "toc": true
   },
   "source": [
    "<h1>Table of Contents<span class=\"tocSkip\"></span></h1>\n",
    "<div class=\"toc\"><ul class=\"toc-item\"><li><span><a href=\"#Dataset\" data-toc-modified-id=\"Dataset-1\">Dataset</a></span></li><li><span><a href=\"#Summarizing-data-with-over\" data-toc-modified-id=\"Summarizing-data-with-over-2\">Summarizing data with <code>over</code></a></span><ul class=\"toc-item\"><li><span><a href=\"#Q:-When-was-the-lowest-temperature-recorded-each-year?\" data-toc-modified-id=\"Q:-When-was-the-lowest-temperature-recorded-each-year?-2.1\">Q: <strong>When</strong> was the lowest temperature recorded each year?</a></span></li><li><span><a href=\"#Using-a-window-function\" data-toc-modified-id=\"Using-a-window-function-2.2\">Using a window function</a></span></li></ul></li><li><span><a href=\"#Ranking-functions\" data-toc-modified-id=\"Ranking-functions-3\">Ranking functions</a></span><ul class=\"toc-item\"><li><span><a href=\"#rank-&amp;-dense_rank\" data-toc-modified-id=\"rank-&amp;-dense_rank-3.1\"><code>rank</code> &amp; <code>dense_rank</code></a></span></li><li><span><a href=\"#percent_rank\" data-toc-modified-id=\"percent_rank-3.2\"><code>percent_rank</code></a></span></li><li><span><a href=\"#ntile()\" data-toc-modified-id=\"ntile()-3.3\"><code>ntile()</code></a></span></li><li><span><a href=\"#row_number()\" data-toc-modified-id=\"row_number()-3.4\"><code>row_number()</code></a></span></li></ul></li><li><span><a href=\"#Analytic-functions:-looking-back-and-ahead\" data-toc-modified-id=\"Analytic-functions:-looking-back-and-ahead-4\">Analytic functions: looking back and ahead</a></span><ul class=\"toc-item\"><li><span><a href=\"#lag-and-lead\" data-toc-modified-id=\"lag-and-lead-4.1\"><code>lag</code> and <code>lead</code></a></span></li><li><span><a href=\"#cume_dist()\" data-toc-modified-id=\"cume_dist()-4.2\"><code>cume_dist()</code></a></span></li></ul></li></ul></div>"
   ]
  },
  {
   "cell_type": "markdown",
   "metadata": {},
   "source": [
    "# Window functions\n",
    "\n",
    "## Dataset\n",
    "\n",
    "We will use the National Oceanic and Atmospheric Administration (NOAA) Global Surface Summary of the Day (GSOD) dataset."
   ]
  },
  {
   "cell_type": "code",
   "execution_count": 6,
   "metadata": {
    "ExecuteTime": {
     "end_time": "2021-06-04T01:45:54.457457Z",
     "start_time": "2021-06-04T01:45:54.221195Z"
    }
   },
   "outputs": [],
   "source": [
    "# Setup\n",
    "\n",
    "from pyspark.conf import SparkConf\n",
    "from pyspark.sql import SparkSession\n",
    "import pyspark.sql.functions as F\n",
    "\n",
    "\n",
    "conf = SparkConf()\n",
    "conf.set(\"spark.sql.execution.arrow.pyspark.enabled\", \"true\")\n",
    "spark = SparkSession.builder.config(conf=conf).getOrCreate()\n",
    "\n",
    "# Read from local parquet\n",
    "gsod = spark.read.parquet(\"data/gsod_noaa/gsod*.parquet\")"
   ]
  },
  {
   "cell_type": "markdown",
   "metadata": {},
   "source": [
    "## Summarizing data with `over`\n",
    "\n",
    "### Q: __When__ was the lowest temperature recorded each year?"
   ]
  },
  {
   "cell_type": "code",
   "execution_count": 13,
   "metadata": {
    "ExecuteTime": {
     "end_time": "2021-06-04T01:52:27.473400Z",
     "start_time": "2021-06-04T01:51:45.112733Z"
    }
   },
   "outputs": [
    {
     "name": "stdout",
     "output_type": "stream",
     "text": [
      "+----+------+\n",
      "|year|  temp|\n",
      "+----+------+\n",
      "|2019|-114.7|\n",
      "|2017|-114.7|\n",
      "|2012|-113.5|\n",
      "|2018|-113.5|\n",
      "|2016|-111.7|\n",
      "|2013|-110.7|\n",
      "|2010|-110.7|\n",
      "|2014|-110.5|\n",
      "|2015|-110.2|\n",
      "|2011|-106.8|\n",
      "|2020|-105.0|\n",
      "+----+------+\n",
      "\n",
      "+------+----+---+---+------+\n",
      "|   stn|year| mo| da|  temp|\n",
      "+------+----+---+---+------+\n",
      "|896060|2010| 06| 03|-110.7|\n",
      "|896060|2011| 05| 19|-106.8|\n",
      "|896060|2012| 06| 11|-113.5|\n",
      "|895770|2013| 07| 31|-110.7|\n",
      "|896060|2014| 08| 20|-110.5|\n",
      "|895360|2015| 07| 12|-110.2|\n",
      "|896060|2015| 08| 21|-110.2|\n",
      "|896060|2015| 08| 27|-110.2|\n",
      "|896060|2016| 07| 11|-111.7|\n",
      "|896250|2017| 06| 20|-114.7|\n",
      "|896060|2018| 08| 27|-113.5|\n",
      "|895770|2019| 06| 15|-114.7|\n",
      "|896060|2020| 08| 11|-105.0|\n",
      "|896250|2020| 08| 13|-105.0|\n",
      "+------+----+---+---+------+\n",
      "\n"
     ]
    }
   ],
   "source": [
    "# Using vanilla groupBy, we can get the lowest temperature but not when.\n",
    "\n",
    "coldest_temp = gsod.groupby(\"year\").agg(F.min(\"temp\").alias(\"temp\"))\n",
    "coldest_temp.orderBy(\"temp\").show()\n",
    "\n",
    "\n",
    "# Using left-semi self-join to get the \"when\"\n",
    "# Self joins are generally an anti-pattern because it is SLOW.\n",
    "\n",
    "coldest_when = gsod.join(coldest_temp, how=\"left_semi\", on=[\"year\", \"temp\"]) \\\n",
    "                   .select(\"stn\", \"year\", \"mo\", \"da\", \"temp\")\n",
    "coldest_when.orderBy(\"year\", \"mo\", \"da\").show()"
   ]
  },
  {
   "cell_type": "code",
   "execution_count": 8,
   "metadata": {
    "ExecuteTime": {
     "end_time": "2021-06-04T01:48:38.565661Z",
     "start_time": "2021-06-04T01:48:38.553755Z"
    }
   },
   "outputs": [
    {
     "name": "stdout",
     "output_type": "stream",
     "text": [
      "<pyspark.sql.window.WindowSpec object at 0x139ed3250>\n"
     ]
    }
   ],
   "source": [
    "# Using a window function instead\n",
    "\n",
    "from pyspark.sql.window import Window\n",
    "\n",
    "# To partition according to the values of one or more columns, \n",
    "# we pass the column name (or a Column object) to the partitionBy() method.\n",
    "each_year = Window.partitionBy(\"year\")\n",
    "\n",
    "# Window is a builder class, just like SparkSession.builder\n",
    "print(each_year)"
   ]
  },
  {
   "cell_type": "markdown",
   "metadata": {},
   "source": [
    "### Using a window function\n",
    "\n",
    "- `each_year` runs the aggregate function `F.min(\"temp\")` over each year, rather than the entire data frame.\n",
    "- `F.min(\"temp\")` applies the minimum temperature for that year to all rows.  This is then filtered to rows with `temp` that matches the aggregate `min_temp`."
   ]
  },
  {
   "cell_type": "code",
   "execution_count": 9,
   "metadata": {
    "ExecuteTime": {
     "end_time": "2021-06-04T01:50:26.334142Z",
     "start_time": "2021-06-04T01:48:38.827935Z"
    }
   },
   "outputs": [
    {
     "name": "stdout",
     "output_type": "stream",
     "text": [
      "+----+---+---+------+------+\n",
      "|year| mo| da|   stn|  temp|\n",
      "+----+---+---+------+------+\n",
      "|2010| 06| 03|896060|-110.7|\n",
      "|2011| 05| 19|896060|-106.8|\n",
      "|2012| 06| 11|896060|-113.5|\n",
      "|2013| 07| 31|895770|-110.7|\n",
      "|2014| 08| 20|896060|-110.5|\n",
      "|2015| 07| 12|895360|-110.2|\n",
      "|2015| 08| 21|896060|-110.2|\n",
      "|2015| 08| 27|896060|-110.2|\n",
      "|2016| 07| 11|896060|-111.7|\n",
      "|2017| 06| 20|896250|-114.7|\n",
      "|2018| 08| 27|896060|-113.5|\n",
      "|2019| 06| 15|895770|-114.7|\n",
      "|2020| 08| 11|896060|-105.0|\n",
      "|2020| 08| 13|896250|-105.0|\n",
      "+----+---+---+------+------+\n",
      "\n"
     ]
    }
   ],
   "source": [
    "# Use the each_year builder class\n",
    "\n",
    "gsod.withColumn(\"min_temp\", F.min(\"temp\").over(each_year)).where(\n",
    "    \"temp = min_temp\"\n",
    ").select(\"year\", \"mo\", \"da\", \"stn\", \"temp\").orderBy(\n",
    "    \"year\", \"mo\", \"da\"\n",
    ").show()"
   ]
  },
  {
   "cell_type": "markdown",
   "metadata": {},
   "source": [
    "Bonus:\n",
    "- `partitionBy()` can be used on more than one column\n",
    "- You can also directly use a window function inside a `select`:"
   ]
  },
  {
   "cell_type": "code",
   "execution_count": 10,
   "metadata": {
    "ExecuteTime": {
     "end_time": "2021-06-04T01:51:44.697186Z",
     "start_time": "2021-06-04T01:50:26.335870Z"
    },
    "scrolled": true
   },
   "outputs": [
    {
     "name": "stdout",
     "output_type": "stream",
     "text": [
      "+----+---+---+------+------+\n",
      "|year| mo| da|   stn|  temp|\n",
      "+----+---+---+------+------+\n",
      "|2010| 06| 03|896060|-110.7|\n",
      "|2011| 05| 19|896060|-106.8|\n",
      "|2012| 06| 11|896060|-113.5|\n",
      "|2013| 07| 31|895770|-110.7|\n",
      "|2014| 08| 20|896060|-110.5|\n",
      "|2015| 07| 12|895360|-110.2|\n",
      "|2015| 08| 21|896060|-110.2|\n",
      "|2015| 08| 27|896060|-110.2|\n",
      "|2016| 07| 11|896060|-111.7|\n",
      "|2017| 06| 20|896250|-114.7|\n",
      "|2018| 08| 27|896060|-113.5|\n",
      "|2019| 06| 15|895770|-114.7|\n",
      "|2020| 08| 11|896060|-105.0|\n",
      "|2020| 08| 13|896250|-105.0|\n",
      "+----+---+---+------+------+\n",
      "\n"
     ]
    }
   ],
   "source": [
    "# Using window function inside a select\n",
    "gsod.select(\n",
    "    \"year\",\n",
    "    \"mo\",\n",
    "    \"da\",\n",
    "    \"stn\",\n",
    "    \"temp\",\n",
    "    F.min(\"temp\").over(each_year).alias(\"min_temp\"),\n",
    ").where(\"temp = min_temp\").drop(\"min_temp\").orderBy(\n",
    "    \"year\", \"mo\", \"da\"\n",
    ").show()"
   ]
  },
  {
   "cell_type": "markdown",
   "metadata": {},
   "source": [
    "## Ranking functions\n",
    "\n",
    "- Rank functions rank records based on the value of a field.\n",
    "- Functions: `rank()`, `dense_rank()`, `percent_rank()`, `ntile()` and `row_number()`"
   ]
  },
  {
   "cell_type": "code",
   "execution_count": 16,
   "metadata": {
    "ExecuteTime": {
     "end_time": "2021-06-04T02:09:44.343817Z",
     "start_time": "2021-06-04T02:09:44.339325Z"
    }
   },
   "outputs": [],
   "source": [
    "# Load lightweight dataset\n",
    "gsod_light = spark.read.parquet(\"data/Window/gsod_light.parquet\")"
   ]
  },
  {
   "cell_type": "code",
   "execution_count": 17,
   "metadata": {
    "ExecuteTime": {
     "end_time": "2021-06-04T01:53:28.832567Z",
     "start_time": "2021-06-04T01:53:28.772990Z"
    },
    "scrolled": false
   },
   "outputs": [
    {
     "name": "stdout",
     "output_type": "stream",
     "text": [
      "root\n",
      " |-- stn: string (nullable = true)\n",
      " |-- year: string (nullable = true)\n",
      " |-- mo: string (nullable = true)\n",
      " |-- da: string (nullable = true)\n",
      " |-- temp: double (nullable = true)\n",
      " |-- count_temp: long (nullable = true)\n",
      "\n",
      "+------+----+---+---+----+----------+\n",
      "|   stn|year| mo| da|temp|count_temp|\n",
      "+------+----+---+---+----+----------+\n",
      "|994979|2017| 12| 11|21.3|        21|\n",
      "|998012|2017| 03| 02|31.4|        24|\n",
      "|719200|2017| 10| 09|60.5|        11|\n",
      "|917350|2018| 04| 21|82.6|         9|\n",
      "|076470|2018| 06| 07|65.0|        24|\n",
      "|996470|2018| 03| 12|55.6|        12|\n",
      "|041680|2019| 02| 19|16.1|        15|\n",
      "|949110|2019| 11| 23|54.9|        14|\n",
      "|998252|2019| 04| 18|44.7|        11|\n",
      "|998166|2019| 03| 20|34.8|        12|\n",
      "+------+----+---+---+----+----------+\n",
      "\n"
     ]
    }
   ],
   "source": [
    "# Inspect\n",
    "gsod_light.printSchema()\n",
    "gsod_light.show()"
   ]
  },
  {
   "cell_type": "markdown",
   "metadata": {
    "ExecuteTime": {
     "end_time": "2021-06-04T02:09:44.343817Z",
     "start_time": "2021-06-04T02:09:44.339325Z"
    }
   },
   "source": [
    "### `rank` & `dense_rank`\n",
    "- `rank` gives Olympic ranking (non-consecutive, when you have multiple records that tie for a rank, the next one will be offset by the number of ties)\n",
    "- `dense_rank` ranks consecutively.  Ties share the same rank, but there won’t be any gap between the ranks.  Useful when you just want a cardinal position over a window."
   ]
  },
  {
   "cell_type": "code",
   "execution_count": 17,
   "metadata": {
    "ExecuteTime": {
     "end_time": "2021-06-04T01:53:28.832567Z",
     "start_time": "2021-06-04T01:53:28.772990Z"
    },
    "scrolled": false
   },
   "outputs": [
    {
     "name": "stdout",
     "output_type": "stream",
     "text": [
      "root\n",
      " |-- stn: string (nullable = true)\n",
      " |-- year: string (nullable = true)\n",
      " |-- mo: string (nullable = true)\n",
      " |-- da: string (nullable = true)\n",
      " |-- temp: double (nullable = true)\n",
      " |-- count_temp: long (nullable = true)\n",
      "\n",
      "+------+----+---+---+----+----------+\n",
      "|   stn|year| mo| da|temp|count_temp|\n",
      "+------+----+---+---+----+----------+\n",
      "|994979|2017| 12| 11|21.3|        21|\n",
      "|998012|2017| 03| 02|31.4|        24|\n",
      "|719200|2017| 10| 09|60.5|        11|\n",
      "|917350|2018| 04| 21|82.6|         9|\n",
      "|076470|2018| 06| 07|65.0|        24|\n",
      "|996470|2018| 03| 12|55.6|        12|\n",
      "|041680|2019| 02| 19|16.1|        15|\n",
      "|949110|2019| 11| 23|54.9|        14|\n",
      "|998252|2019| 04| 18|44.7|        11|\n",
      "|998166|2019| 03| 20|34.8|        12|\n",
      "+------+----+---+---+----+----------+\n",
      "\n"
     ]
    }
   ],
   "source": [
    "# Inspect\n",
    "gsod_light.printSchema()\n",
    "gsod_light.show()"
   ]
  },
  {
   "cell_type": "code",
   "execution_count": 31,
   "metadata": {
    "ExecuteTime": {
     "end_time": "2021-06-04T02:07:17.562889Z",
     "start_time": "2021-06-04T02:07:15.904807Z"
    },
    "scrolled": false
   },
   "outputs": [
    {
     "name": "stdout",
     "output_type": "stream",
     "text": [
      "Using rank()\n",
      "+------+----+---+---+----+----------+--------+\n",
      "|   stn|year| mo| da|temp|count_temp|rank_tpm|\n",
      "+------+----+---+---+----+----------+--------+\n",
      "|949110|2019| 11| 23|54.9|        14|       1|\n",
      "|996470|2018| 03| 12|55.6|        12|       1|\n",
      "|998166|2019| 03| 20|34.8|        12|       1|\n",
      "|998012|2017| 03| 02|31.4|        24|       3|\n",
      "|041680|2019| 02| 19|16.1|        15|       1|\n",
      "|076470|2018| 06| 07|65.0|        24|       1|\n",
      "|719200|2017| 10| 09|60.5|        11|       1|\n",
      "|994979|2017| 12| 11|21.3|        21|       1|\n",
      "|917350|2018| 04| 21|82.6|         9|       1|\n",
      "|998252|2019| 04| 18|44.7|        11|       2|\n",
      "+------+----+---+---+----+----------+--------+\n",
      "\n",
      "Using dense_rank()\n",
      "+------+----+---+---+----+----------+--------+\n",
      "|   stn|year| mo| da|temp|count_temp|rank_tpm|\n",
      "+------+----+---+---+----+----------+--------+\n",
      "|949110|2019| 11| 23|54.9|        14|       1|\n",
      "|996470|2018| 03| 12|55.6|        12|       1|\n",
      "|998166|2019| 03| 20|34.8|        12|       1|\n",
      "|998012|2017| 03| 02|31.4|        24|       2|\n",
      "|041680|2019| 02| 19|16.1|        15|       1|\n",
      "|076470|2018| 06| 07|65.0|        24|       1|\n",
      "|719200|2017| 10| 09|60.5|        11|       1|\n",
      "|994979|2017| 12| 11|21.3|        21|       1|\n",
      "|917350|2018| 04| 21|82.6|         9|       1|\n",
      "|998252|2019| 04| 18|44.7|        11|       2|\n",
      "+------+----+---+---+----+----------+--------+\n",
      "\n"
     ]
    }
   ],
   "source": [
    "# Create new window, partitioning by year and ordering by number of temperature readings\n",
    "temp_per_year_asc = Window.partitionBy(\"year\").orderBy(\"count_temp\")\n",
    "temp_per_month_asc = Window.partitionBy(\"mo\").orderBy(\"count_temp\")\n",
    "\n",
    "\n",
    "# Using rank() with window, we get the rank accordintg the value of count_temp column\n",
    "print(\"Using rank()\")\n",
    "gsod_light.withColumn(\"rank_tpm\", F.rank().over(temp_per_month_asc)).show()\n",
    "\n",
    "\n",
    "# Using dense_rank() instead to get consecutive ranking by month\n",
    "print(\"Using dense_rank()\")\n",
    "gsod_light.withColumn(\"rank_tpm\", F.dense_rank().over(temp_per_month_asc)).show()"
   ]
  },
  {
   "cell_type": "markdown",
   "metadata": {},
   "source": [
    "### `percent_rank`\n",
    "\n",
    "For every window `percent_rank()` computes percentage rank (0-1) based on ordered value.\n",
    "\n",
    "formula = # records with lower value than the current / # of records in the window - 1"
   ]
  },
  {
   "cell_type": "code",
   "execution_count": 34,
   "metadata": {
    "ExecuteTime": {
     "end_time": "2021-06-04T02:12:30.442474Z",
     "start_time": "2021-06-04T02:12:29.065050Z"
    }
   },
   "outputs": [
    {
     "name": "stdout",
     "output_type": "stream",
     "text": [
      "+------+----+---+---+----+----------+------------------+\n",
      "|   stn|year| mo| da|temp|count_temp|          rank_tpm|\n",
      "+------+----+---+---+----+----------+------------------+\n",
      "|041680|2019| 02| 19|16.1|        15|               0.0|\n",
      "|998166|2019| 03| 20|34.8|        12|0.3333333333333333|\n",
      "|998252|2019| 04| 18|44.7|        11|0.6666666666666666|\n",
      "|949110|2019| 11| 23|54.9|        14|               1.0|\n",
      "|994979|2017| 12| 11|21.3|        21|               0.0|\n",
      "|998012|2017| 03| 02|31.4|        24|               0.5|\n",
      "|719200|2017| 10| 09|60.5|        11|               1.0|\n",
      "|996470|2018| 03| 12|55.6|        12|               0.0|\n",
      "|076470|2018| 06| 07|65.0|        24|               0.5|\n",
      "|917350|2018| 04| 21|82.6|         9|               1.0|\n",
      "+------+----+---+---+----+----------+------------------+\n",
      "\n"
     ]
    }
   ],
   "source": [
    "temp_each_year = each_year.orderBy(\"temp\")\n",
    "\n",
    "\n",
    "gsod_light.withColumn(\"rank_tpm\", F.percent_rank().over(temp_each_year)).show()"
   ]
  },
  {
   "cell_type": "markdown",
   "metadata": {},
   "source": [
    "### `ntile()`\n",
    "\n",
    "Gives n-tile for a given param.\n",
    "\n",
    "![](notes/img/ntile.png)"
   ]
  },
  {
   "cell_type": "code",
   "execution_count": 35,
   "metadata": {
    "ExecuteTime": {
     "end_time": "2021-06-04T02:13:41.431400Z",
     "start_time": "2021-06-04T02:13:36.381640Z"
    }
   },
   "outputs": [
    {
     "name": "stdout",
     "output_type": "stream",
     "text": [
      "+------+----+---+---+----+----------+--------+\n",
      "|   stn|year| mo| da|temp|count_temp|rank_tpm|\n",
      "+------+----+---+---+----+----------+--------+\n",
      "|041680|2019| 02| 19|16.1|        15|       1|\n",
      "|998166|2019| 03| 20|34.8|        12|       1|\n",
      "|998252|2019| 04| 18|44.7|        11|       2|\n",
      "|949110|2019| 11| 23|54.9|        14|       2|\n",
      "|994979|2017| 12| 11|21.3|        21|       1|\n",
      "|998012|2017| 03| 02|31.4|        24|       1|\n",
      "|719200|2017| 10| 09|60.5|        11|       2|\n",
      "|996470|2018| 03| 12|55.6|        12|       1|\n",
      "|076470|2018| 06| 07|65.0|        24|       1|\n",
      "|917350|2018| 04| 21|82.6|         9|       2|\n",
      "+------+----+---+---+----+----------+--------+\n",
      "\n"
     ]
    }
   ],
   "source": [
    "gsod_light.withColumn(\"rank_tpm\", F.ntile(2).over(temp_each_year)).show()"
   ]
  },
  {
   "cell_type": "markdown",
   "metadata": {},
   "source": [
    "### `row_number()`\n",
    "\n",
    "Given an ordered window, it will give a increasing rank regardless of ties."
   ]
  },
  {
   "cell_type": "code",
   "execution_count": 39,
   "metadata": {
    "ExecuteTime": {
     "end_time": "2021-06-04T02:20:32.873109Z",
     "start_time": "2021-06-04T02:20:32.153274Z"
    }
   },
   "outputs": [
    {
     "name": "stdout",
     "output_type": "stream",
     "text": [
      "+------+----+---+---+----+----------+----------+\n",
      "|   stn|year| mo| da|temp|count_temp|row_number|\n",
      "+------+----+---+---+----+----------+----------+\n",
      "|041680|2019| 02| 19|16.1|        15|         1|\n",
      "|998166|2019| 03| 20|34.8|        12|         2|\n",
      "|998252|2019| 04| 18|44.7|        11|         3|\n",
      "|949110|2019| 11| 23|54.9|        14|         4|\n",
      "|994979|2017| 12| 11|21.3|        21|         1|\n",
      "|998012|2017| 03| 02|31.4|        24|         2|\n",
      "|719200|2017| 10| 09|60.5|        11|         3|\n",
      "|996470|2018| 03| 12|55.6|        12|         1|\n",
      "|076470|2018| 06| 07|65.0|        24|         2|\n",
      "|917350|2018| 04| 21|82.6|         9|         3|\n",
      "+------+----+---+---+----+----------+----------+\n",
      "\n"
     ]
    }
   ],
   "source": [
    "gsod_light.withColumn(\"row_number\", F.row_number().over(temp_each_year)).show()"
   ]
  },
  {
   "cell_type": "code",
   "execution_count": 38,
   "metadata": {
    "ExecuteTime": {
     "end_time": "2021-06-04T02:20:28.387938Z",
     "start_time": "2021-06-04T02:20:27.691039Z"
    }
   },
   "outputs": [
    {
     "name": "stdout",
     "output_type": "stream",
     "text": [
      "+------+----+---+---+----+----------+----------+\n",
      "|   stn|year| mo| da|temp|count_temp|row_number|\n",
      "+------+----+---+---+----+----------+----------+\n",
      "|949110|2019| 11| 23|54.9|        14|         1|\n",
      "|998012|2017| 03| 02|31.4|        24|         1|\n",
      "|996470|2018| 03| 12|55.6|        12|         2|\n",
      "|998166|2019| 03| 20|34.8|        12|         3|\n",
      "|041680|2019| 02| 19|16.1|        15|         1|\n",
      "|076470|2018| 06| 07|65.0|        24|         1|\n",
      "|719200|2017| 10| 09|60.5|        11|         1|\n",
      "|994979|2017| 12| 11|21.3|        21|         1|\n",
      "|998252|2019| 04| 18|44.7|        11|         1|\n",
      "|917350|2018| 04| 21|82.6|         9|         2|\n",
      "+------+----+---+---+----+----------+----------+\n",
      "\n"
     ]
    }
   ],
   "source": [
    "# Creating a window with a descending ordered column\n",
    "\n",
    "temp_per_month_desc = Window.partitionBy(\"mo\").orderBy(F.col(\"count_temp\").desc())\n",
    "\n",
    "gsod_light.withColumn(\"row_number\", F.row_number().over(temp_per_month_desc)).show()"
   ]
  },
  {
   "cell_type": "markdown",
   "metadata": {},
   "source": [
    "## Analytic functions: looking back and ahead\n",
    "\n",
    "\n",
    "### `lag` and `lead`\n",
    "\n",
    "> The two most important functions of the analytics functions family are called `lag(col, n=1, default=None)` and `lead(col, n=1, default=None)`, which will give you the value of the col column of the n-th record before and after the record you’re over, respectively."
   ]
  },
  {
   "cell_type": "code",
   "execution_count": 50,
   "metadata": {
    "ExecuteTime": {
     "end_time": "2021-06-04T02:29:05.522208Z",
     "start_time": "2021-06-04T02:29:04.226128Z"
    }
   },
   "outputs": [
    {
     "name": "stdout",
     "output_type": "stream",
     "text": [
      "Temp of previous two records over each year\n",
      "+------+----+---+---+----+----------+-------------+---------------+\n",
      "|   stn|year| mo| da|temp|count_temp|previous_temp|previous_temp_2|\n",
      "+------+----+---+---+----+----------+-------------+---------------+\n",
      "|041680|2019| 02| 19|16.1|        15|         null|           null|\n",
      "|998166|2019| 03| 20|34.8|        12|         16.1|           null|\n",
      "|998252|2019| 04| 18|44.7|        11|         34.8|           16.1|\n",
      "|949110|2019| 11| 23|54.9|        14|         44.7|           34.8|\n",
      "|994979|2017| 12| 11|21.3|        21|         null|           null|\n",
      "|998012|2017| 03| 02|31.4|        24|         21.3|           null|\n",
      "|719200|2017| 10| 09|60.5|        11|         31.4|           21.3|\n",
      "|996470|2018| 03| 12|55.6|        12|         null|           null|\n",
      "|076470|2018| 06| 07|65.0|        24|         55.6|           null|\n",
      "|917350|2018| 04| 21|82.6|         9|         65.0|           55.6|\n",
      "+------+----+---+---+----+----------+-------------+---------------+\n",
      "\n",
      "Temp delta of previous record over each year\n",
      "+----+---+----+-------------------+\n",
      "|year| mo|temp|previous_temp_delta|\n",
      "+----+---+----+-------------------+\n",
      "|2019| 02|16.1|               null|\n",
      "|2019| 03|34.8|               18.7|\n",
      "|2019| 04|44.7|                9.9|\n",
      "|2019| 11|54.9|               10.2|\n",
      "|2017| 12|21.3|               null|\n",
      "|2017| 03|31.4|               10.1|\n",
      "|2017| 10|60.5|               29.1|\n",
      "|2018| 03|55.6|               null|\n",
      "|2018| 06|65.0|                9.4|\n",
      "|2018| 04|82.6|               17.6|\n",
      "+----+---+----+-------------------+\n",
      "\n"
     ]
    }
   ],
   "source": [
    "# Get temp of previous two records using lag()\n",
    "\n",
    "print(\"Temp of previous two records over each year\")\n",
    "gsod_light.withColumn(\n",
    "    \"previous_temp\", F.lag(\"temp\").over(temp_each_year)\n",
    ").withColumn(\n",
    "    \"previous_temp_2\", F.lag(\"temp\", 2).over(temp_each_year)\n",
    ").show()\n",
    "\n",
    "\n",
    "print(\"Temp delta of previous record over each year\")\n",
    "gsod_light.withColumn(\n",
    "    \"previous_temp_delta\", F.round(F.col(\"temp\") - F.lag(\"temp\").over(temp_each_year), 2)\n",
    ").select([\"year\", \"mo\", \"temp\", \"previous_temp_delta\"]).show()"
   ]
  },
  {
   "cell_type": "markdown",
   "metadata": {},
   "source": [
    "### `cume_dist()`\n",
    "\n",
    "- Provides cumulative distribution rather than ranking.  Useful for EDA of cume-distro of variables.\n",
    "- Does not rank, but provides the cumulative density function `F(x)` for the records in the data frame."
   ]
  },
  {
   "cell_type": "code",
   "execution_count": 52,
   "metadata": {
    "ExecuteTime": {
     "end_time": "2021-06-04T02:32:37.633265Z",
     "start_time": "2021-06-04T02:32:36.625956Z"
    }
   },
   "outputs": [
    {
     "name": "stdout",
     "output_type": "stream",
     "text": [
      "Percent rank vs. Cumulative distribution of temperature over each year\n",
      "+------+----+---+---+----+----------+------------------+------------------+\n",
      "|   stn|year| mo| da|temp|count_temp|       percen_rank|         cume_dist|\n",
      "+------+----+---+---+----+----------+------------------+------------------+\n",
      "|041680|2019| 02| 19|16.1|        15|               0.0|              0.25|\n",
      "|998166|2019| 03| 20|34.8|        12|0.3333333333333333|               0.5|\n",
      "|998252|2019| 04| 18|44.7|        11|0.6666666666666666|              0.75|\n",
      "|949110|2019| 11| 23|54.9|        14|               1.0|               1.0|\n",
      "|994979|2017| 12| 11|21.3|        21|               0.0|0.3333333333333333|\n",
      "|998012|2017| 03| 02|31.4|        24|               0.5|0.6666666666666666|\n",
      "|719200|2017| 10| 09|60.5|        11|               1.0|               1.0|\n",
      "|996470|2018| 03| 12|55.6|        12|               0.0|0.3333333333333333|\n",
      "|076470|2018| 06| 07|65.0|        24|               0.5|0.6666666666666666|\n",
      "|917350|2018| 04| 21|82.6|         9|               1.0|               1.0|\n",
      "+------+----+---+---+----+----------+------------------+------------------+\n",
      "\n"
     ]
    }
   ],
   "source": [
    "print(\"Percent rank vs. Cumulative distribution of temperature over each year\")\n",
    "gsod_light.withColumn(\n",
    "    \"percen_rank\" , F.percent_rank().over(temp_each_year)\n",
    ").withColumn(\"cume_dist\", F.cume_dist().over(temp_each_year)).show()"
   ]
  },
  {
   "cell_type": "code",
   "execution_count": null,
   "metadata": {},
   "outputs": [],
   "source": []
  }
 ],
 "metadata": {
  "kernelspec": {
   "display_name": "pyspark",
   "language": "python",
   "name": "pyspark"
  },
  "language_info": {
   "codemirror_mode": {
    "name": "ipython",
    "version": 3
   },
   "file_extension": ".py",
   "mimetype": "text/x-python",
   "name": "python",
   "nbconvert_exporter": "python",
   "pygments_lexer": "ipython3",
   "version": "3.8.8"
  },
  "toc": {
   "base_numbering": 1,
   "nav_menu": {},
   "number_sections": false,
   "sideBar": true,
   "skip_h1_title": true,
   "title_cell": "Table of Contents",
   "title_sidebar": "Contents",
   "toc_cell": true,
   "toc_position": {},
   "toc_section_display": true,
   "toc_window_display": false
  }
 },
 "nbformat": 4,
 "nbformat_minor": 5
}
