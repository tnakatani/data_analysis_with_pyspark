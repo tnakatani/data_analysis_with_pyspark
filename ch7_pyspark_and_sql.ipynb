{
 "cells": [
  {
   "cell_type": "markdown",
   "metadata": {
    "toc": true
   },
   "source": [
    "<h1>Table of Contents<span class=\"tocSkip\"></span></h1>\n",
    "<div class=\"toc\"><ul class=\"toc-item\"><li><span><a href=\"#Data-Sources\" data-toc-modified-id=\"Data-Sources-1\">Data Sources</a></span></li><li><span><a href=\"#pyspark.sql-vs-SQL\" data-toc-modified-id=\"pyspark.sql-vs-SQL-2\"><code>pyspark.sql</code> vs SQL</a></span><ul class=\"toc-item\"><li><span><a href=\"#Order-of-execution\" data-toc-modified-id=\"Order-of-execution-2.1\">Order of execution</a></span></li><li><span><a href=\"#Using-SQL-queries-on-a-data-frame\" data-toc-modified-id=\"Using-SQL-queries-on-a-data-frame-2.2\">Using SQL queries on a data frame</a></span></li><li><span><a href=\"#Table-vs-View-concept\" data-toc-modified-id=\"Table-vs-View-concept-2.3\">Table vs View concept</a></span></li></ul></li><li><span><a href=\"#Using-the-Spark-catalog-for-multiple-views\" data-toc-modified-id=\"Using-the-Spark-catalog-for-multiple-views-3\">Using the Spark catalog for multiple views</a></span><ul class=\"toc-item\"><li><span><a href=\"#Data-Source---Backblaze-Data-Set\" data-toc-modified-id=\"Data-Source---Backblaze-Data-Set-3.1\">Data Source - Backblaze Data Set</a></span></li></ul></li><li><span><a href=\"#select-and-where\" data-toc-modified-id=\"select-and-where-4\"><code>select</code> and <code>where</code></a></span></li><li><span><a href=\"#groupby-and-orderby\" data-toc-modified-id=\"groupby-and-orderby-5\"><code>groupby</code> and <code>orderby</code></a></span></li><li><span><a href=\"#Filtering-after-grouping-with-having\" data-toc-modified-id=\"Filtering-after-grouping-with-having-6\">Filtering after grouping with <code>having</code></a></span></li><li><span><a href=\"#Saving-tables/views-using-create\" data-toc-modified-id=\"Saving-tables/views-using-create-7\">Saving tables/views using <code>create</code></a></span></li><li><span><a href=\"#Adding-data-to-table-using-UNION-and-JOIN\" data-toc-modified-id=\"Adding-data-to-table-using-UNION-and-JOIN-8\">Adding data to table using <code>UNION</code> and <code>JOIN</code></a></span></li><li><span><a href=\"#Organizing-code-with-subqueries-and-common-table-expressions-(CTE)\" data-toc-modified-id=\"Organizing-code-with-subqueries-and-common-table-expressions-(CTE)-9\">Organizing code with subqueries and common table expressions (CTE)</a></span></li></ul></div>"
   ]
  },
  {
   "cell_type": "markdown",
   "metadata": {},
   "source": [
    "# Bilingual PySpark: blending Python and SQL\n",
    "\n",
    "> This chapter is dedicated to using SQL with, and on top of PySpark. I cover how we can move from one language to the other. I also cover how we can use a SQL-like syntax within data frame methods to speed up your code and some of trade-offs you can face. Finally, we blend Python and SQL code together to get the best of both worlds.\n",
    "\n",
    "## Data Sources\n",
    "\n",
    "We will be using a periodic table of elements database for the initial section, followed by a public data set provided by BackBlaze, which provides hard drive data and statistics."
   ]
  },
  {
   "cell_type": "code",
   "execution_count": 1,
   "metadata": {},
   "outputs": [],
   "source": [
    "from pyspark.sql import SparkSession\n",
    "from pyspark.sql.utils import AnalysisException\n",
    "import pyspark.sql.functions as F\n",
    "import pyspark.sql.types as T\n",
    "import numpy as np\n",
    "\n",
    "spark = SparkSession.builder.getOrCreate()"
   ]
  },
  {
   "cell_type": "code",
   "execution_count": 2,
   "metadata": {},
   "outputs": [
    {
     "name": "stdout",
     "output_type": "stream",
     "text": [
      "root\n",
      " |-- AtomicNumber: integer (nullable = true)\n",
      " |-- Element: string (nullable = true)\n",
      " |-- Symbol: string (nullable = true)\n",
      " |-- AtomicMass: double (nullable = true)\n",
      " |-- NumberofNeutrons: integer (nullable = true)\n",
      " |-- NumberofProtons: integer (nullable = true)\n",
      " |-- NumberofElectrons: integer (nullable = true)\n",
      " |-- Period: integer (nullable = true)\n",
      " |-- Group: integer (nullable = true)\n",
      " |-- Phase: string (nullable = true)\n",
      " |-- Radioactive: string (nullable = true)\n",
      " |-- Natural: string (nullable = true)\n",
      " |-- Metal: string (nullable = true)\n",
      " |-- Nonmetal: string (nullable = true)\n",
      " |-- Metalloid: string (nullable = true)\n",
      " |-- Type: string (nullable = true)\n",
      " |-- AtomicRadius: double (nullable = true)\n",
      " |-- Electronegativity: double (nullable = true)\n",
      " |-- FirstIonization: double (nullable = true)\n",
      " |-- Density: double (nullable = true)\n",
      " |-- MeltingPoint: double (nullable = true)\n",
      " |-- BoilingPoint: double (nullable = true)\n",
      " |-- NumberOfIsotopes: integer (nullable = true)\n",
      " |-- Discoverer: string (nullable = true)\n",
      " |-- Year: integer (nullable = true)\n",
      " |-- SpecificHeat: double (nullable = true)\n",
      " |-- NumberofShells: integer (nullable = true)\n",
      " |-- NumberofValence: integer (nullable = true)\n",
      "\n"
     ]
    }
   ],
   "source": [
    "# Read in table of elements data\n",
    "elements = spark.read.csv(\n",
    "    \"data/Ch07/Periodic_Table_Of_Elements.csv\",\n",
    "    header=True,\n",
    "    inferSchema=True,\n",
    ")\n",
    "\n",
    "# Inspect the data frame\n",
    "elements.printSchema()\n",
    "\n",
    "# View the data frame in chunks of 3-4 columns\n",
    "# column_split = np.array_split(np.array(elements.columns), len(elements.columns) // 3)\n",
    "\n",
    "# for x in column_split:\n",
    "#     elements.select(*x).show(3, False)"
   ]
  },
  {
   "cell_type": "markdown",
   "metadata": {},
   "source": [
    "## `pyspark.sql` vs SQL\n",
    "\n",
    "### Order of execution\n",
    "\n",
    "![](./notes/img/order.png)"
   ]
  },
  {
   "cell_type": "markdown",
   "metadata": {},
   "source": [
    "The code below selects the `phrase` column that contain `\"liq\"`, then runs groupby and count.\n",
    "\n",
    "SQL equivalent would be:\n",
    "\n",
    "```sql\n",
    "SELECT\n",
    "  period,\n",
    "  count(*)\n",
    "FROM elements\n",
    "WHERE phase = \"liq\"\n",
    "GROUP BY period;\n",
    "```"
   ]
  },
  {
   "cell_type": "code",
   "execution_count": 3,
   "metadata": {},
   "outputs": [
    {
     "name": "stdout",
     "output_type": "stream",
     "text": [
      "+------+-----+\n",
      "|period|count|\n",
      "+------+-----+\n",
      "|     6|    1|\n",
      "|     4|    1|\n",
      "+------+-----+\n",
      "\n"
     ]
    }
   ],
   "source": [
    "elements.where(F.col(\"phase\") == \"liq\").groupby(\"period\").count().show()"
   ]
  },
  {
   "cell_type": "markdown",
   "metadata": {},
   "source": [
    "### Using SQL queries on a data frame\n",
    "\n",
    "- In order to allow a data frame to be queried via SQL, we need to _register_ them as tables.\n",
    "- Spark SQL does not have visibility over the variables Python assigns.\n",
    "- Use `createOrReplaceTempView()` to read a data frame and create a Spark SQL reference.  Functionally equivalent to `CREATE_OR_REPLACE_VIEW` in SQL"
   ]
  },
  {
   "cell_type": "code",
   "execution_count": 4,
   "metadata": {},
   "outputs": [
    {
     "name": "stdout",
     "output_type": "stream",
     "text": [
      "Table or view not found: elements; line 1 pos 29;\n",
      "'Aggregate ['period], ['period, unresolvedalias(count(1), None)]\n",
      "+- 'Filter ('phase = liq)\n",
      "   +- 'UnresolvedRelation [elements]\n",
      "\n"
     ]
    }
   ],
   "source": [
    "# Directly querying a data frame SQL-style does not work\n",
    "try:\n",
    "    spark.sql(\n",
    "        \"select period, count(*) from elements where phase='liq' group by period\"\n",
    "    ).show(5)\n",
    "except AnalysisException as e:\n",
    "    print(e)"
   ]
  },
  {
   "cell_type": "code",
   "execution_count": 5,
   "metadata": {},
   "outputs": [
    {
     "name": "stdout",
     "output_type": "stream",
     "text": [
      "+------+--------+\n",
      "|period|count(1)|\n",
      "+------+--------+\n",
      "|     6|       1|\n",
      "|     4|       1|\n",
      "+------+--------+\n",
      "\n"
     ]
    }
   ],
   "source": [
    "# Using createOrReplaceTempView\n",
    "\n",
    "elements.createOrReplaceTempView(\"elements\")\n",
    "\n",
    "spark.sql(\n",
    "    \"select period, count(*) from elements where phase='liq' group by period\"\n",
    ").show(5)"
   ]
  },
  {
   "cell_type": "markdown",
   "metadata": {},
   "source": [
    "### Table vs View concept\n",
    "\n",
    "> In SQL, they are distinct concepts: the table is materialized in memory and the view is computed on the fly. Spark’s temp views are conceptually closer to a view than a table. Spark SQL also has tables but we will not be using them, preferring reading and materializing our data into a data frame."
   ]
  },
  {
   "cell_type": "markdown",
   "metadata": {},
   "source": [
    "## Using the Spark catalog for multiple views\n",
    "\n",
    "- Spark catalog mainly deals with managing metadata of multiple SQL tables, and their level of caching.\n",
    "- Catalogs manages views we've registered and drops them."
   ]
  },
  {
   "cell_type": "code",
   "execution_count": 6,
   "metadata": {},
   "outputs": [
    {
     "data": {
      "text/plain": [
       "[Table(name='elements', database=None, description=None, tableType='TEMPORARY', isTemporary=True)]"
      ]
     },
     "metadata": {},
     "output_type": "display_data"
    },
    {
     "data": {
      "text/plain": [
       "[]"
      ]
     },
     "metadata": {},
     "output_type": "display_data"
    }
   ],
   "source": [
    "# Instantiate\n",
    "spark.catalog\n",
    "\n",
    "# List tables we've registered\n",
    "display(spark.catalog.listTables())\n",
    "\n",
    "# Drop a table\n",
    "spark.catalog.dropTempView(\"elements\")\n",
    "display(spark.catalog.listTables())"
   ]
  },
  {
   "cell_type": "markdown",
   "metadata": {},
   "source": [
    "### Data Source - Backblaze Data Set\n",
    "\n",
    "(Note: Only reading in Q3 data due to local compute)"
   ]
  },
  {
   "cell_type": "code",
   "execution_count": 11,
   "metadata": {},
   "outputs": [],
   "source": [
    "# Read backblaze data set into a data frame and register a SQL view\n",
    "\n",
    "DATA_DIRECTORY = \"./data/Ch07/\"\n",
    "\n",
    "# q1 = spark.read.csv(\n",
    "#     DATA_DIRECTORY + \"drive_stats_2019_Q1\", header=True, inferSchema=True\n",
    "# )\n",
    "# q2 = spark.read.csv(\n",
    "#     DATA_DIRECTORY + \"data_Q2_2019\", header=True, inferSchema=True\n",
    "# )\n",
    "q3 = spark.read.csv(\n",
    "    DATA_DIRECTORY + \"data_Q3_2019\", header=True, inferSchema=True\n",
    ")\n",
    "# q4 = spark.read.csv(\n",
    "#     DATA_DIRECTORY + \"data_Q4_2019\", header=True, inferSchema=True\n",
    "# )\n",
    "\n",
    "# Q4 has two more fields than the rest\n",
    "\n",
    "# q4_fields_extra = set(q4.columns) - set(q1.columns)\n",
    "\n",
    "# for i in q4_fields_extra:\n",
    "#     q1 = q1.withColumn(i, F.lit(None).cast(T.StringType()))\n",
    "#     q2 = q2.withColumn(i, F.lit(None).cast(T.StringType()))\n",
    "#     q3 = q3.withColumn(i, F.lit(None).cast(T.StringType()))\n",
    "\n",
    "\n",
    "# Union the data frames\n",
    "\n",
    "# if you are only using the minimal set of data, use this version\n",
    "backblaze_2019 = q3\n",
    "\n",
    "# if you are using the full set of data, use this version\n",
    "# backblaze_2019 = (\n",
    "#     q1.select(q4.columns)\n",
    "#     .union(q2.select(q4.columns))\n",
    "#     .union(q3.select(q4.columns))\n",
    "#     .union(q4)\n",
    "# )\n",
    "\n",
    "# Setting the layout for each column according to the schema\n",
    "q = backblaze_2019.select(\n",
    "    [\n",
    "        F.col(x).cast(T.LongType()) if x.startswith(\"smart\") else F.col(x)\n",
    "        for x in backblaze_2019.columns\n",
    "    ]\n",
    ")\n",
    "\n",
    "# Register the view\n",
    "backblaze_2019.createOrReplaceTempView(\"backblaze_stats_2019\")"
   ]
  },
  {
   "cell_type": "code",
   "execution_count": 21,
   "metadata": {
    "scrolled": true
   },
   "outputs": [
    {
     "name": "stdout",
     "output_type": "stream",
     "text": [
      "root\n",
      " |-- date: string (nullable = true)\n",
      " |-- serial_number: string (nullable = true)\n",
      " |-- model: string (nullable = true)\n",
      " |-- capacity_bytes: long (nullable = true)\n",
      " |-- failure: integer (nullable = true)\n",
      " |-- smart_1_normalized: integer (nullable = true)\n",
      " |-- smart_1_raw: integer (nullable = true)\n",
      " |-- smart_2_normalized: integer (nullable = true)\n",
      " |-- smart_2_raw: integer (nullable = true)\n",
      " |-- smart_3_normalized: integer (nullable = true)\n",
      " |-- smart_3_raw: integer (nullable = true)\n",
      " |-- smart_4_normalized: integer (nullable = true)\n",
      " |-- smart_4_raw: integer (nullable = true)\n",
      " |-- smart_5_normalized: integer (nullable = true)\n",
      " |-- smart_5_raw: integer (nullable = true)\n",
      " |-- smart_7_normalized: integer (nullable = true)\n",
      " |-- smart_7_raw: long (nullable = true)\n",
      " |-- smart_8_normalized: integer (nullable = true)\n",
      " |-- smart_8_raw: integer (nullable = true)\n",
      " |-- smart_9_normalized: integer (nullable = true)\n",
      " |-- smart_9_raw: integer (nullable = true)\n",
      " |-- smart_10_normalized: integer (nullable = true)\n",
      " |-- smart_10_raw: integer (nullable = true)\n",
      " |-- smart_11_normalized: integer (nullable = true)\n",
      " |-- smart_11_raw: integer (nullable = true)\n",
      " |-- smart_12_normalized: integer (nullable = true)\n",
      " |-- smart_12_raw: integer (nullable = true)\n",
      " |-- smart_13_normalized: string (nullable = true)\n",
      " |-- smart_13_raw: string (nullable = true)\n",
      " |-- smart_15_normalized: string (nullable = true)\n",
      " |-- smart_15_raw: string (nullable = true)\n",
      " |-- smart_16_normalized: integer (nullable = true)\n",
      " |-- smart_16_raw: integer (nullable = true)\n",
      " |-- smart_17_normalized: integer (nullable = true)\n",
      " |-- smart_17_raw: integer (nullable = true)\n",
      " |-- smart_22_normalized: integer (nullable = true)\n",
      " |-- smart_22_raw: integer (nullable = true)\n",
      " |-- smart_23_normalized: integer (nullable = true)\n",
      " |-- smart_23_raw: integer (nullable = true)\n",
      " |-- smart_24_normalized: integer (nullable = true)\n",
      " |-- smart_24_raw: integer (nullable = true)\n",
      " |-- smart_168_normalized: integer (nullable = true)\n",
      " |-- smart_168_raw: integer (nullable = true)\n",
      " |-- smart_170_normalized: integer (nullable = true)\n",
      " |-- smart_170_raw: long (nullable = true)\n",
      " |-- smart_173_normalized: integer (nullable = true)\n",
      " |-- smart_173_raw: long (nullable = true)\n",
      " |-- smart_174_normalized: integer (nullable = true)\n",
      " |-- smart_174_raw: integer (nullable = true)\n",
      " |-- smart_177_normalized: integer (nullable = true)\n",
      " |-- smart_177_raw: integer (nullable = true)\n",
      " |-- smart_179_normalized: string (nullable = true)\n",
      " |-- smart_179_raw: string (nullable = true)\n",
      " |-- smart_181_normalized: string (nullable = true)\n",
      " |-- smart_181_raw: string (nullable = true)\n",
      " |-- smart_182_normalized: string (nullable = true)\n",
      " |-- smart_182_raw: string (nullable = true)\n",
      " |-- smart_183_normalized: integer (nullable = true)\n",
      " |-- smart_183_raw: integer (nullable = true)\n",
      " |-- smart_184_normalized: integer (nullable = true)\n",
      " |-- smart_184_raw: integer (nullable = true)\n",
      " |-- smart_187_normalized: integer (nullable = true)\n",
      " |-- smart_187_raw: integer (nullable = true)\n",
      " |-- smart_188_normalized: integer (nullable = true)\n",
      " |-- smart_188_raw: long (nullable = true)\n",
      " |-- smart_189_normalized: integer (nullable = true)\n",
      " |-- smart_189_raw: integer (nullable = true)\n",
      " |-- smart_190_normalized: integer (nullable = true)\n",
      " |-- smart_190_raw: integer (nullable = true)\n",
      " |-- smart_191_normalized: integer (nullable = true)\n",
      " |-- smart_191_raw: integer (nullable = true)\n",
      " |-- smart_192_normalized: integer (nullable = true)\n",
      " |-- smart_192_raw: integer (nullable = true)\n",
      " |-- smart_193_normalized: integer (nullable = true)\n",
      " |-- smart_193_raw: integer (nullable = true)\n",
      " |-- smart_194_normalized: integer (nullable = true)\n",
      " |-- smart_194_raw: integer (nullable = true)\n",
      " |-- smart_195_normalized: integer (nullable = true)\n",
      " |-- smart_195_raw: integer (nullable = true)\n",
      " |-- smart_196_normalized: integer (nullable = true)\n",
      " |-- smart_196_raw: integer (nullable = true)\n",
      " |-- smart_197_normalized: integer (nullable = true)\n",
      " |-- smart_197_raw: integer (nullable = true)\n",
      " |-- smart_198_normalized: integer (nullable = true)\n",
      " |-- smart_198_raw: integer (nullable = true)\n",
      " |-- smart_199_normalized: integer (nullable = true)\n",
      " |-- smart_199_raw: integer (nullable = true)\n",
      " |-- smart_200_normalized: integer (nullable = true)\n",
      " |-- smart_200_raw: integer (nullable = true)\n",
      " |-- smart_201_normalized: string (nullable = true)\n",
      " |-- smart_201_raw: string (nullable = true)\n",
      " |-- smart_218_normalized: integer (nullable = true)\n",
      " |-- smart_218_raw: integer (nullable = true)\n",
      " |-- smart_220_normalized: integer (nullable = true)\n",
      " |-- smart_220_raw: integer (nullable = true)\n",
      " |-- smart_222_normalized: integer (nullable = true)\n",
      " |-- smart_222_raw: integer (nullable = true)\n",
      " |-- smart_223_normalized: integer (nullable = true)\n",
      " |-- smart_223_raw: integer (nullable = true)\n",
      " |-- smart_224_normalized: integer (nullable = true)\n",
      " |-- smart_224_raw: integer (nullable = true)\n",
      " |-- smart_225_normalized: integer (nullable = true)\n",
      " |-- smart_225_raw: integer (nullable = true)\n",
      " |-- smart_226_normalized: integer (nullable = true)\n",
      " |-- smart_226_raw: integer (nullable = true)\n",
      " |-- smart_231_normalized: integer (nullable = true)\n",
      " |-- smart_231_raw: long (nullable = true)\n",
      " |-- smart_232_normalized: integer (nullable = true)\n",
      " |-- smart_232_raw: long (nullable = true)\n",
      " |-- smart_233_normalized: integer (nullable = true)\n",
      " |-- smart_233_raw: integer (nullable = true)\n",
      " |-- smart_235_normalized: integer (nullable = true)\n",
      " |-- smart_235_raw: long (nullable = true)\n",
      " |-- smart_240_normalized: integer (nullable = true)\n",
      " |-- smart_240_raw: long (nullable = true)\n",
      " |-- smart_241_normalized: integer (nullable = true)\n",
      " |-- smart_241_raw: long (nullable = true)\n",
      " |-- smart_242_normalized: integer (nullable = true)\n",
      " |-- smart_242_raw: long (nullable = true)\n",
      " |-- smart_250_normalized: integer (nullable = true)\n",
      " |-- smart_250_raw: integer (nullable = true)\n",
      " |-- smart_251_normalized: integer (nullable = true)\n",
      " |-- smart_251_raw: integer (nullable = true)\n",
      " |-- smart_252_normalized: integer (nullable = true)\n",
      " |-- smart_252_raw: integer (nullable = true)\n",
      " |-- smart_254_normalized: integer (nullable = true)\n",
      " |-- smart_254_raw: integer (nullable = true)\n",
      " |-- smart_255_normalized: string (nullable = true)\n",
      " |-- smart_255_raw: string (nullable = true)\n",
      "\n"
     ]
    }
   ],
   "source": [
    "backblaze_2019.printSchema()"
   ]
  },
  {
   "cell_type": "markdown",
   "metadata": {},
   "source": [
    "## `select` and `where`\n",
    "\n",
    "Use select and where to show a few hard drives serial numbers that have failed at some point (failure = 1)"
   ]
  },
  {
   "cell_type": "code",
   "execution_count": 27,
   "metadata": {},
   "outputs": [
    {
     "name": "stdout",
     "output_type": "stream",
     "text": [
      "+-------------+-------------+--------------+\n",
      "|serial_number|        model|capacity_bytes|\n",
      "+-------------+-------------+--------------+\n",
      "|     ZA10MCJ5|  ST8000DM002| 8001563222016|\n",
      "|     ZCH07T9K|ST12000NM0007|12000138625024|\n",
      "|     ZCH0CA7Z|ST12000NM0007|12000138625024|\n",
      "|     Z302F381|  ST4000DM000| 4000787030016|\n",
      "|     ZCH0B3Z2|ST12000NM0007|12000138625024|\n",
      "+-------------+-------------+--------------+\n",
      "only showing top 5 rows\n",
      "\n",
      "+-------------+-------------+--------------+\n",
      "|serial_number|        model|capacity_bytes|\n",
      "+-------------+-------------+--------------+\n",
      "|     ZA10MCJ5|  ST8000DM002| 8001563222016|\n",
      "|     ZCH07T9K|ST12000NM0007|12000138625024|\n",
      "|     ZCH0CA7Z|ST12000NM0007|12000138625024|\n",
      "|     Z302F381|  ST4000DM000| 4000787030016|\n",
      "|     ZCH0B3Z2|ST12000NM0007|12000138625024|\n",
      "+-------------+-------------+--------------+\n",
      "only showing top 5 rows\n",
      "\n"
     ]
    }
   ],
   "source": [
    "# SQL order of operations: 1) select columns, then 2) filter \n",
    "spark.sql(\"select serial_number, model, capacity_bytes from backblaze_stats_2019 where failure = 1\").show(5)\n",
    "\n",
    "# PySpark order of operations: 1) filter, then 2) select columns\n",
    "backblaze_2019.where(\"failure=1\").select(\n",
    "    F.col('serial_number'),\n",
    "    F.col('model'),\n",
    "    F.col('capacity_bytes')\n",
    ").show(5)\n"
   ]
  },
  {
   "cell_type": "markdown",
   "metadata": {},
   "source": [
    "## `groupby` and `orderby`\n",
    "\n",
    "Look at the capacity in gigabytes of the hard drives included in the data, by model."
   ]
  },
  {
   "cell_type": "code",
   "execution_count": 39,
   "metadata": {},
   "outputs": [
    {
     "name": "stdout",
     "output_type": "stream",
     "text": [
      "+--------------------+--------------------+-------+\n",
      "|               model|              min_GB| max_GB|\n",
      "+--------------------+--------------------+-------+\n",
      "| TOSHIBA MG07ACA14TA|             13039.0|13039.0|\n",
      "|HGST HUH721212ALE600|             11176.0|11176.0|\n",
      "|       ST12000NM0117|             11176.0|11176.0|\n",
      "|       ST12000NM0007|-9.31322574615478...|11176.0|\n",
      "|HGST HUH721212ALN604|-9.31322574615478...|11176.0|\n",
      "+--------------------+--------------------+-------+\n",
      "only showing top 5 rows\n",
      "\n"
     ]
    }
   ],
   "source": [
    "# Groupby and order in SQL\n",
    "spark.sql(\n",
    "    \"\"\"\n",
    "    SELECT\n",
    "        model,\n",
    "        min(capacity_bytes / pow(1024, 3)) min_GB,\n",
    "        max(capacity_bytes / pow(1024, 3)) max_GB\n",
    "    FROM backblaze_stats_2019\n",
    "    GROUP BY model\n",
    "    ORDER BY max_GB DESC\n",
    "\"\"\"\n",
    ").show(5)"
   ]
  },
  {
   "cell_type": "code",
   "execution_count": 40,
   "metadata": {},
   "outputs": [
    {
     "name": "stdout",
     "output_type": "stream",
     "text": [
      "+--------------------+--------------------+-------+\n",
      "|               model|              min_GB| max_GB|\n",
      "+--------------------+--------------------+-------+\n",
      "| TOSHIBA MG07ACA14TA|             13039.0|13039.0|\n",
      "|HGST HUH721212ALE600|             11176.0|11176.0|\n",
      "|       ST12000NM0117|             11176.0|11176.0|\n",
      "|       ST12000NM0007|-9.31322574615478...|11176.0|\n",
      "|HGST HUH721212ALN604|-9.31322574615478...|11176.0|\n",
      "+--------------------+--------------------+-------+\n",
      "only showing top 5 rows\n",
      "\n"
     ]
    }
   ],
   "source": [
    "# PySpark\n",
    "backblaze_2019.groupby(F.col(\"model\")).agg(\n",
    "    F.min(F.col(\"capacity_bytes\") / F.pow(F.lit(1024), 3)).alias(\"min_GB\"),\n",
    "    F.max(F.col(\"capacity_bytes\") / F.pow(F.lit(1024), 3)).alias(\"max_GB\"),\n",
    ").orderBy(F.col(\"max_GB\"), ascending=False).show(5)"
   ]
  },
  {
   "cell_type": "markdown",
   "metadata": {},
   "source": [
    "## Filtering after grouping with `having`\n",
    "\n",
    "`having` in SQL is a condition block used after grouping is done.\n",
    "\n",
    "Filter the groupby with only those that have different min_GB and max_GB numbers"
   ]
  },
  {
   "cell_type": "code",
   "execution_count": 44,
   "metadata": {},
   "outputs": [
    {
     "name": "stdout",
     "output_type": "stream",
     "text": [
      "+--------------------+--------------------+-----------------+\n",
      "|               model|              min_GB|           max_GB|\n",
      "+--------------------+--------------------+-----------------+\n",
      "|       ST12000NM0007|-9.31322574615478...|          11176.0|\n",
      "|HGST HUH721212ALN604|-9.31322574615478...|          11176.0|\n",
      "|HGST HUH721010ALE600|-9.31322574615478...|           9314.0|\n",
      "|       ST10000NM0086|-9.31322574615478...|           9314.0|\n",
      "|         ST8000DM002|-9.31322574615478...|7452.036460876465|\n",
      "+--------------------+--------------------+-----------------+\n",
      "only showing top 5 rows\n",
      "\n"
     ]
    }
   ],
   "source": [
    "spark.sql(\n",
    "    \"\"\"\n",
    "    SELECT\n",
    "        model,\n",
    "        min(capacity_bytes / pow(1024, 3)) min_GB,\n",
    "        max(capacity_bytes / pow(1024, 3)) max_GB\n",
    "    FROM backblaze_stats_2019\n",
    "    GROUP BY model\n",
    "    HAVING min_GB <> max_GB\n",
    "    ORDER BY max_GB DESC\n",
    "\"\"\"\n",
    ").show(5)"
   ]
  },
  {
   "cell_type": "code",
   "execution_count": 45,
   "metadata": {},
   "outputs": [
    {
     "name": "stdout",
     "output_type": "stream",
     "text": [
      "+--------------------+--------------------+-----------------+\n",
      "|               model|              min_GB|           max_GB|\n",
      "+--------------------+--------------------+-----------------+\n",
      "|       ST12000NM0007|-9.31322574615478...|          11176.0|\n",
      "|HGST HUH721212ALN604|-9.31322574615478...|          11176.0|\n",
      "|HGST HUH721010ALE600|-9.31322574615478...|           9314.0|\n",
      "|       ST10000NM0086|-9.31322574615478...|           9314.0|\n",
      "|         ST8000DM002|-9.31322574615478...|7452.036460876465|\n",
      "+--------------------+--------------------+-----------------+\n",
      "only showing top 5 rows\n",
      "\n"
     ]
    }
   ],
   "source": [
    "backblaze_2019.groupby(F.col(\"model\")).agg(\n",
    "    F.min(F.col(\"capacity_bytes\") / F.pow(F.lit(1024), 3)).alias(\"min_GB\"),\n",
    "    F.max(F.col(\"capacity_bytes\") / F.pow(F.lit(1024), 3)).alias(\"max_GB\"),\n",
    ").where(F.col(\"min_GB\") != F.col(\"max_GB\")).orderBy(\n",
    "    F.col(\"max_GB\"), ascending=False\n",
    ").show(5)"
   ]
  },
  {
   "cell_type": "markdown",
   "metadata": {},
   "source": [
    "## Saving tables/views using `create`\n",
    "\n",
    "- With SQL, prefix query with `CREATE TABLE/VIEW`\n",
    "    - creating a table will materialize the data\n",
    "    - creating a view will only keep the query\n",
    "- With PySpark, just save to variable\n",
    "\n",
    "Compute the number of days of operation a model has and the number of drive failures it has had"
   ]
  },
  {
   "cell_type": "code",
   "execution_count": 56,
   "metadata": {},
   "outputs": [
    {
     "data": {
      "text/plain": [
       "DataFrame[]"
      ]
     },
     "execution_count": 56,
     "metadata": {},
     "output_type": "execute_result"
    }
   ],
   "source": [
    "# SQL\n",
    "\n",
    "spark.catalog.dropTempView('drive_days')\n",
    "spark.catalog.dropTempView('failures')\n",
    "\n",
    "spark.sql(\n",
    "    \"\"\"\n",
    "    CREATE TEMP VIEW drive_days AS\n",
    "        SELECT model, count(*) AS drive_days\n",
    "        FROM backblaze_stats_2019\n",
    "        GROUP BY model\n",
    "\"\"\")\n",
    "\n",
    "spark.sql(\n",
    "    \"\"\"\n",
    "    CREATE TEMP VIEW failures AS\n",
    "        SELECT model, count(*) AS failures\n",
    "        FROM backblaze_stats_2019\n",
    "        WHERE failure = 1\n",
    "        GROUP BY model\n",
    "\"\"\")"
   ]
  },
  {
   "cell_type": "code",
   "execution_count": 57,
   "metadata": {},
   "outputs": [],
   "source": [
    "# PySpark\n",
    "\n",
    "drive_days = backblaze_2019.groupBy(F.col(\"model\")).agg(\n",
    "    F.count(F.col(\"*\")).alias(\"drive_days\")\n",
    ")\n",
    "\n",
    "failures = (\n",
    "    backblaze_2019.where(F.col(\"failure\") == 1)\n",
    "    .groupBy(F.col(\"model\"))\n",
    "    .agg(F.count(F.col(\"*\")).alias(\"failures\"))\n",
    ")"
   ]
  },
  {
   "cell_type": "code",
   "execution_count": 59,
   "metadata": {},
   "outputs": [
    {
     "name": "stdout",
     "output_type": "stream",
     "text": [
      "+-------------------+--------+\n",
      "|              model|failures|\n",
      "+-------------------+--------+\n",
      "|        ST4000DM000|      72|\n",
      "|      ST12000NM0007|     365|\n",
      "|        ST8000DM005|       1|\n",
      "|TOSHIBA MQ01ABF050M|       5|\n",
      "|       ST8000NM0055|      50|\n",
      "+-------------------+--------+\n",
      "only showing top 5 rows\n",
      "\n"
     ]
    }
   ],
   "source": [
    "failures.show(5)"
   ]
  },
  {
   "cell_type": "markdown",
   "metadata": {},
   "source": [
    "## Adding data to table using `UNION` and `JOIN`\n",
    "\n",
    "- SQL `UNION` removes duplicate records, while PySpark doesn't.  \n",
    "- PySpark `UNION` is equal to SQL `UNION ALL`\n",
    "- To get SQL `UNION` equivalent with PySpark, run `distinct()` after `union()`\n",
    "\n",
    "(Note: Not running 2 cells below since I only loaded Q3 data)"
   ]
  },
  {
   "cell_type": "code",
   "execution_count": null,
   "metadata": {},
   "outputs": [],
   "source": [
    "columns_backblaze = \", \".join(q4.columns)\n",
    "\n",
    "q1.createOrReplaceTempView(\"Q1\")\n",
    "q1.createOrReplaceTempView(\"Q2\")\n",
    "q1.createOrReplaceTempView(\"Q3\")\n",
    "q1.createOrReplaceTempView(\"Q4\")\n",
    "\n",
    "spark.sql(\n",
    "    \"\"\"\n",
    "    CREATE VIEW backblaze_2019 AS\n",
    "    SELECT {col} FROM Q1 UNION ALL\n",
    "    SELECT {col} FROM Q2 UNION ALL\n",
    "    SELECT {col} FROM Q3 UNION ALL\n",
    "    SELECT {col} FROM Q4\n",
    "\"\"\".format(\n",
    "        col=columns_backblaze\n",
    "    )\n",
    ")"
   ]
  },
  {
   "cell_type": "code",
   "execution_count": null,
   "metadata": {},
   "outputs": [],
   "source": [
    "backblaze_2019 = (\n",
    "    q1.select(q4.columns)\n",
    "    .union(q2.select(q4.columns))\n",
    "    .union(q3.select(q4.columns))\n",
    "    .union(q4)\n",
    ")"
   ]
  },
  {
   "cell_type": "markdown",
   "metadata": {},
   "source": [
    "Joining `drive_days` and `failures` tables together"
   ]
  },
  {
   "cell_type": "code",
   "execution_count": 60,
   "metadata": {},
   "outputs": [
    {
     "name": "stdout",
     "output_type": "stream",
     "text": [
      "+-------------+----------+--------+\n",
      "|        model|drive_days|failures|\n",
      "+-------------+----------+--------+\n",
      "|  ST9250315AS|        89|    null|\n",
      "|  ST4000DM000|   1796728|      72|\n",
      "|ST12000NM0007|   3212635|     365|\n",
      "|   ST320LT007|        89|    null|\n",
      "|  ST8000DM005|      2280|       1|\n",
      "+-------------+----------+--------+\n",
      "only showing top 5 rows\n",
      "\n"
     ]
    }
   ],
   "source": [
    "spark.sql(\n",
    "    \"\"\"\n",
    "    SELECT\n",
    "        drive_days.model,\n",
    "        drive_days,\n",
    "        failures\n",
    "    FROM drive_days\n",
    "    LEFT JOIN failures\n",
    "    ON\n",
    "        drive_days.model = failures.model\n",
    "\"\"\"\n",
    ").show(5)"
   ]
  },
  {
   "cell_type": "code",
   "execution_count": 61,
   "metadata": {},
   "outputs": [
    {
     "name": "stdout",
     "output_type": "stream",
     "text": [
      "+-------------+----------+--------+\n",
      "|        model|drive_days|failures|\n",
      "+-------------+----------+--------+\n",
      "|  ST9250315AS|        89|    null|\n",
      "|  ST4000DM000|   1796728|      72|\n",
      "|ST12000NM0007|   3212635|     365|\n",
      "|   ST320LT007|        89|    null|\n",
      "|  ST8000DM005|      2280|       1|\n",
      "+-------------+----------+--------+\n",
      "only showing top 5 rows\n",
      "\n"
     ]
    }
   ],
   "source": [
    "drive_days.join(failures, on=\"model\", how=\"left\").show(5)"
   ]
  },
  {
   "cell_type": "markdown",
   "metadata": {},
   "source": [
    "## Organizing code with subqueries and common table expressions (CTE)\n",
    "\n",
    "Take drive_days and failures table definitions and bundle them into a single query using CTE."
   ]
  },
  {
   "cell_type": "code",
   "execution_count": 65,
   "metadata": {},
   "outputs": [
    {
     "name": "stdout",
     "output_type": "stream",
     "text": [
      "+--------------------+--------------------+\n",
      "|               model|        failure_rate|\n",
      "+--------------------+--------------------+\n",
      "|       ST12000NM0117|0.019305019305019305|\n",
      "|Seagate BarraCuda...|6.341154090044388E-4|\n",
      "|  TOSHIBA MQ01ABF050|5.579360828423496E-4|\n",
      "|         ST8000DM005|4.385964912280702E-4|\n",
      "|          ST500LM030| 4.19639110365086E-4|\n",
      "+--------------------+--------------------+\n",
      "only showing top 5 rows\n",
      "\n"
     ]
    }
   ],
   "source": [
    "spark.sql(\"\"\"\n",
    "    WITH drive_days as (\n",
    "        SELECT\n",
    "            model,\n",
    "            count(*) AS drive_days\n",
    "        FROM backblaze_stats_2019\n",
    "        GROUP BY model),\n",
    "    failures as (\n",
    "        SELECT\n",
    "            model,\n",
    "            count(*) AS failures\n",
    "        FROM backblaze_stats_2019\n",
    "        WHERE failure = 1\n",
    "        GROUP BY model)\n",
    "        \n",
    "    SELECT\n",
    "        drive_days.model,\n",
    "        failures / drive_days failure_rate\n",
    "    FROM drive_days\n",
    "    INNER JOIN failures\n",
    "    ON drive_days.model = failures.model\n",
    "    ORDER BY failure_rate DESC\n",
    "\"\"\").show(5)"
   ]
  },
  {
   "cell_type": "code",
   "execution_count": 66,
   "metadata": {},
   "outputs": [
    {
     "name": "stdout",
     "output_type": "stream",
     "text": [
      "+--------------------+----------+--------+--------------------+\n",
      "|               model|drive_days|failures|        failure_rate|\n",
      "+--------------------+----------+--------+--------------------+\n",
      "|       ST12000NM0117|       259|       5|0.019305019305019305|\n",
      "|Seagate BarraCuda...|      1577|       1|6.341154090044388E-4|\n",
      "|  TOSHIBA MQ01ABF050|     44808|      25|5.579360828423496E-4|\n",
      "|         ST8000DM005|      2280|       1|4.385964912280702E-4|\n",
      "|          ST500LM030|     21447|       9| 4.19639110365086E-4|\n",
      "+--------------------+----------+--------+--------------------+\n",
      "only showing top 5 rows\n",
      "\n",
      "True\n"
     ]
    }
   ],
   "source": [
    "# CTE sort of similar to python functions\n",
    "def failure_rate(drive_stats):\n",
    "    drive_days = drive_stats.groupby(F.col(\"model\")).agg(\n",
    "        F.count(F.col(\"*\")).alias(\"drive_days\")\n",
    "    )\n",
    "\n",
    "    failures = (\n",
    "        drive_stats.where(F.col(\"failure\") == 1)\n",
    "        .groupby(F.col(\"model\"))\n",
    "        .agg(F.count(F.col(\"*\")).alias(\"failures\"))\n",
    "    )\n",
    "    answer = (\n",
    "        drive_days.join(failures, on=\"model\", how=\"inner\")\n",
    "        .withColumn(\"failure_rate\", F.col(\"failures\") / F.col(\"drive_days\"))\n",
    "        .orderBy(F.col(\"failure_rate\").desc())\n",
    "    )\n",
    "    return answer\n",
    "\n",
    "\n",
    "failure_rate(backblaze_2019).show(5)\n",
    "\n",
    "print(\"drive_days\" in dir())"
   ]
  },
  {
   "cell_type": "code",
   "execution_count": null,
   "metadata": {},
   "outputs": [],
   "source": []
  }
 ],
 "metadata": {
  "kernelspec": {
   "display_name": "Python [conda env:pyspark]",
   "language": "python",
   "name": "conda-env-pyspark-py"
  },
  "language_info": {
   "codemirror_mode": {
    "name": "ipython",
    "version": 3
   },
   "file_extension": ".py",
   "mimetype": "text/x-python",
   "name": "python",
   "nbconvert_exporter": "python",
   "pygments_lexer": "ipython3",
   "version": "3.8.8"
  },
  "toc": {
   "base_numbering": 1,
   "nav_menu": {},
   "number_sections": false,
   "sideBar": true,
   "skip_h1_title": true,
   "title_cell": "Table of Contents",
   "title_sidebar": "Contents",
   "toc_cell": true,
   "toc_position": {},
   "toc_section_display": true,
   "toc_window_display": false
  }
 },
 "nbformat": 4,
 "nbformat_minor": 4
}
